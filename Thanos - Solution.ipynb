{
 "cells": [
  {
   "cell_type": "markdown",
   "id": "ba35ef0b",
   "metadata": {},
   "source": [
    "# Libraries"
   ]
  },
  {
   "cell_type": "code",
   "execution_count": 2,
   "id": "29218c48",
   "metadata": {},
   "outputs": [],
   "source": [
    "import os\n",
    "import random\n",
    "import time\n",
    "import shutil\n",
    "import glob"
   ]
  },
  {
   "cell_type": "markdown",
   "id": "b8fcd646",
   "metadata": {},
   "source": [
    "# Functions"
   ]
  },
  {
   "cell_type": "code",
   "execution_count": 3,
   "id": "326ff89d",
   "metadata": {},
   "outputs": [],
   "source": [
    "def images(pth):\n",
    "    my_lst=os.listdir(pth)\n",
    "    return my_lst\n",
    "def kill_half_population_randomly(population):\n",
    "    half_population=int(len(population)/2)\n",
    "    if len(population)/2==0.5:\n",
    "        for i in range(1):\n",
    "            population=images('universe/')\n",
    "            random_choice=random.choice(population)\n",
    "            os.remove('universe/'+random_choice)\n",
    "            time.sleep(2)\n",
    "            print(f'Done kill ({random_choice})')\n",
    "    else:\n",
    "        for i in range(half_population):\n",
    "            population=images('universe/')\n",
    "            random_choice=random.choice(population)\n",
    "            os.remove('universe/'+random_choice)\n",
    "            time.sleep(2)\n",
    "            print(f'Done kill ({random_choice})')"
   ]
  },
  {
   "cell_type": "code",
   "execution_count": 4,
   "id": "aebc0c48",
   "metadata": {},
   "outputs": [
    {
     "name": "stdout",
     "output_type": "stream",
     "text": [
      "Done kill (cover030.png)\n",
      "Done kill (cover044.png)\n",
      "Done kill (cover038.png)\n",
      "Done kill (cover016.png)\n",
      "Done kill (cover012.png)\n",
      "Done kill (cover004.png)\n",
      "Done kill (cover032.png)\n",
      "Done kill (cover036.png)\n",
      "Done kill (cover037.png)\n",
      "Done kill (cover007.png)\n",
      "Done kill (cover039.png)\n",
      "Done kill (cover050.png)\n",
      "Done kill (cover026.png)\n",
      "Done kill (cover018.png)\n",
      "Done kill (cover020.png)\n",
      "Done kill (cover017.png)\n",
      "Done kill (cover033.png)\n",
      "Done kill (cover042.png)\n",
      "Done kill (cover008.png)\n",
      "Done kill (cover043.png)\n",
      "Done kill (cover046.png)\n",
      "Done kill (cover021.png)\n",
      "Done kill (cover022.png)\n",
      "Done kill (cover029.png)\n",
      "Done kill (cover048.png)\n"
     ]
    }
   ],
   "source": [
    "lst=images('universe/')\n",
    "kill_half_population_randomly(lst)"
   ]
  },
  {
   "cell_type": "code",
   "execution_count": 6,
   "id": "b2aa9806",
   "metadata": {},
   "outputs": [
    {
     "data": {
      "text/plain": [
       "25"
      ]
     },
     "execution_count": 6,
     "metadata": {},
     "output_type": "execute_result"
    }
   ],
   "source": [
    "len(images('universe/'))"
   ]
  },
  {
   "cell_type": "code",
   "execution_count": 7,
   "id": "3c25ed5b",
   "metadata": {},
   "outputs": [],
   "source": [
    "if len(images('universe/'))==0:\n",
    "    def copy_images(src_dir,dst_dir):\n",
    "        for pngfile in glob.iglob(os.path.join(src_dir, \"*.PNG\")):\n",
    "            shutil.copy(pngfile, dst_dir)\n",
    "    src_dir = \"backup/\"\n",
    "    dst_dir = \"universe/\"\n",
    "    copy_images(src_dir,dst_dir)"
   ]
  }
 ],
 "metadata": {
  "kernelspec": {
   "display_name": "Python 3",
   "language": "python",
   "name": "python3"
  },
  "language_info": {
   "codemirror_mode": {
    "name": "ipython",
    "version": 3
   },
   "file_extension": ".py",
   "mimetype": "text/x-python",
   "name": "python",
   "nbconvert_exporter": "python",
   "pygments_lexer": "ipython3",
   "version": "3.8.8"
  }
 },
 "nbformat": 4,
 "nbformat_minor": 5
}
